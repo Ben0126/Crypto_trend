{
 "cells": [
  {
   "cell_type": "code",
   "execution_count": 5,
   "metadata": {},
   "outputs": [],
   "source": [
    "import backtrader as bt\n",
    "import pandas as pd\n",
    "import matplotlib.pyplot as plt\n",
    "import datetime as dt \n",
    "import numpy as np\n",
    "from finlab import crypto\n",
    "import yfinance as yf\n",
    "import matplotlib.dates \n",
    "import warnings"
   ]
  },
  {
   "cell_type": "code",
   "execution_count": 8,
   "metadata": {},
   "outputs": [],
   "source": [
    "class SmaCross(bt.Strategy):\n",
    "    params = dict(\n",
    "        exitbars=5,\n",
    "        pfast=30,  # period for the fast moving average\n",
    "        pslow=60   # period for the slow moving average\n",
    "    )\n",
    "    \n",
    "    def __init__(self):\n",
    "        self.dataclose = self.datas[0].close\n",
    "        sma1 = bt.ind.SMA(period=self.p.pfast)  # fast moving average\n",
    "        sma2 = bt.ind.SMA(period=self.p.pslow)  # slow moving average\n",
    "        self.crossover = bt.ind.CrossOver(sma1, sma2)  # crossover signal\n",
    "        self.order = None\n",
    "    \n",
    "    \n",
    "    def notify_order(self, order):\n",
    "        if order.status in [order.Submitted, order.Accepted]:\n",
    "            return\n",
    "\n",
    "        if order.status in [order.Completed]:\n",
    "            if order.isbuy():\n",
    "                self.log(\"Buy Executed {}\".format(order.executed.price))\n",
    "            elif order.issell():\n",
    "                self.log(\"Sell Executed {}\".format(order.executed.price))\n",
    "            \n",
    "            self.bar_executed = len(self)\n",
    "\n",
    "        elif order.status in [order.Canceled, order.Margin, order.Rejected]:\n",
    "            self.log(\"Order Canceled/Margin/Rejected\")\n",
    "\n",
    "        self.order = None\n",
    "\n",
    "\n",
    "    def next(self):\n",
    "        self.log(\"Close {}\".format(self.dataclose[0]))\n",
    "        if self.order:\n",
    "            return\n",
    "        \n",
    "        if not self.position:  # not in the market\n",
    "            if self.crossover > 0:  # if fast crosses slow to the upside\n",
    "                self.log(\"Buy Create {}\".format(self.dataclose[0]))\n",
    "                self.order = self.buy()\n",
    "\n",
    "        elif self.crossover < 0:  # in the market & cross to the downside\n",
    "            self.log(\"Sell Create {}\".format(self.dataclose[0]))\n",
    "            self.order = self.close()\n",
    "        \n",
    "        else: # 持續持有10天就賣出\n",
    "            if len(self) >= (self.bar_executed + self.params.exitbars):\n",
    "                self.log(\"Sell Create {}\".format(self.dataclose[0]))\n",
    "                self.order = self.sell()\n",
    "\n",
    "    # def next(self):\n",
    "    #     self.log(\"Close {}\".format(self.dataclose[0]))\n",
    "    #     if self.order:\n",
    "    #         return\n",
    "\n",
    "    #     if not self.position:\n",
    "    #         if self.dataclose[0] < self.dataclose[-1]:\n",
    "    #             if self.dataclose[-1] < self.dataclose[-2]:\n",
    "    #                 self.log(\"Buy Create {}\".format(self.dataclose[0]))\n",
    "    #                 self.order = self.buy()\n",
    "    #     else:\n",
    "    #         if len(self) >= (self.bar_executed + self.params.exitbars):\n",
    "    #             self.log(\"Sell Create {}\".format(self.dataclose[0]))\n",
    "    #             self.order = self.sell()\n",
    "\n",
    "    def log(self, txt):\n",
    "        time = self.datas[0].datetime.date(0)\n",
    "        # print(\"{} {}\".format(time.isoformat(), txt))\n",
    "\n",
    "    def stop(self):\n",
    "        print(self.params.exitbars, self.params.pfast, self.params.pslow, self.broker.getvalue())"
   ]
  },
  {
   "cell_type": "code",
   "execution_count": 9,
   "metadata": {},
   "outputs": [
    {
     "name": "stdout",
     "output_type": "stream",
     "text": [
      "Start Portfolio 10000\n",
      "5 30 60 9992.22534\n",
      "Final Portfolio 9992.22534\n"
     ]
    }
   ],
   "source": [
    "from backtrader import cerebro\n",
    "\n",
    "\n",
    "if __name__ =='__main__':\n",
    "    cerebro = bt.Cerebro()\n",
    "    cerebro.broker.setcash(10000)   #初始資金\n",
    "    cerebro.broker.setcommission(commission = 0.001)    #手續費 0.1%\n",
    "\n",
    "    # symbol = \"SPY\"\n",
    "    # date = \"2020-01-01\"\n",
    "    # data = yf.download(symbol,date)\n",
    "   \n",
    "    data = bt.feeds.YahooFinanceCSVData(dataname = \"data/SPY.csv\") #,fromdate = dt(2021,1,1), todate = dt(2022,10,1)\n",
    "\n",
    "\n",
    "    #df = df[['Open', 'High', 'Low', 'Close', 'Volume']]\n",
    "\n",
    "    #df = crypto.get_all_binance('BTCUSDT', '4h')\n",
    "    #df['Datetime'] = pd.to_datetime(df[0])\n",
    "    #df.set_index('Datetime')\n",
    "    #df_BTC = bt.feeds.PandasData(df, fromdate = dt.datetime(2020,1,1))\n",
    "\n",
    "    cerebro.adddata(data)\n",
    "    cerebro.addstrategy(SmaCross)\n",
    "    # cerebro.optstrategy(SmaCross, \n",
    "    #                     exitbars = 5, \n",
    "    #                     pfast = range(5, 30, 5), \n",
    "    #                     pslow = range(60, 120, 10) \n",
    "    #                     )\n",
    "    print(\"Start Portfolio {}\" .format(cerebro.broker.getvalue()))\n",
    "    cerebro.run()\n",
    "    print(\"Final Portfolio {}\" .format(cerebro.broker.getvalue()))"
   ]
  }
 ],
 "metadata": {
  "kernelspec": {
   "display_name": "Python 3.9.12 ('PY_Env')",
   "language": "python",
   "name": "python3"
  },
  "language_info": {
   "codemirror_mode": {
    "name": "ipython",
    "version": 3
   },
   "file_extension": ".py",
   "mimetype": "text/x-python",
   "name": "python",
   "nbconvert_exporter": "python",
   "pygments_lexer": "ipython3",
   "version": "3.9.12"
  },
  "orig_nbformat": 4,
  "vscode": {
   "interpreter": {
    "hash": "4877b3fee5f0f38b54d555825168fde5799a8fbed9e4e34a40d798f828df1a78"
   }
  }
 },
 "nbformat": 4,
 "nbformat_minor": 2
}
