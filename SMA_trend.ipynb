{
 "cells": [
  {
   "cell_type": "code",
   "execution_count": null,
   "metadata": {},
   "outputs": [],
   "source": [
    "from backtesting import Backtest\n",
    "from backtesting.lib import SignalStrategy\n",
    "import pandas as pd\n",
    "\n",
    "class Strategy(SignalStrategy):\n",
    "    \n",
    "    n1 = 20\n",
    "    n2 = 60\n",
    "    \n",
    "    def init(self):\n",
    "        super().init()\n",
    "        \n",
    "        # Precompute the two moving averages\n",
    "        close = pd.Series(self.data.Close)\n",
    "        sma1 = close.rolling(self.n1).mean()\n",
    "        sma2 = close.rolling(self.n2).mean()\n",
    "        \n",
    "        # Precompute signal\n",
    "        signal_long = (sma1 > sma2) & (sma1.shift() < sma2.shift())\n",
    "        signal_short = (sma1 < sma2) & (sma1.shift() > sma2.shift())\n",
    "        \n",
    "        # combine signal\n",
    "        signal = signal_long\n",
    "        signal[signal_short] = -1\n",
    "        \n",
    "        # add signal\n",
    "        self.set_signal(signal)\n",
    "    def next(self):\n",
    "        super().next()\n",
    "\n",
    "\n",
    "df = crypto.get_all_binance('BTCUSDT', '4h')\n",
    "bt = Backtest(df, Strategy)\n",
    "result1 = bt.run()"
   ]
  },
  {
   "cell_type": "code",
   "execution_count": null,
   "metadata": {},
   "outputs": [],
   "source": [
    "result1"
   ]
  },
  {
   "cell_type": "markdown",
   "metadata": {},
   "source": [
    "欄位\t說明 <br>\n",
    "---\n",
    "Start\t起始時間 <br>\n",
    "End\t結束時間<br>\n",
    "Duration\t經過天數<br>\n",
    "Exposure [%]\t投資比率<br>\n",
    "Equity Final [$]\t最終資產<br>\n",
    "Equity Peak [$]\t最高資產<br>\n",
    "Return [%]\t報酬率<br>\n",
    "Buy & Hold Return [%]\t買入持有報酬率<br>\n",
    "Max. Drawdown [%]\t最大交易回落<br>\n",
    "Avg. Drawdown [%]\t平均交易回落<br>\n",
    "Max. Drawdown Duration\t最長交易回落期間<br>\n",
    "Avg. Drawdown Duration\t平均交易回落期間<br>\n",
    "Win Rate [%]\t勝率<br>\n",
    "Best Trade [%]\t最好交易報酬率<br>\n",
    "Worst Trade [%]\t最差交易報酬率<br>\n",
    "Avg. Trade [%]\t平均交易報酬率<br>\n",
    "Max. Trade Duration\t最長交易間隔<br>\n",
    "Avg. Trade Duration\t平均交易間隔<br>\n",
    "Expectancy [%]\t期望值<br>\n",
    "SQN\t系統品質指標<br>\n",
    "Sharpe Ratio\t夏普比率<br>\n",
    "Sortino Ratio\t索丁諾比率<br>\n",
    "Calmar Ratio\t卡瑪比率<br>\n",
    "_strategy\t使用策略名稱<br>"
   ]
  }
 ],
 "metadata": {
  "kernelspec": {
   "display_name": "Python 3.9.12 ('PY_Env')",
   "language": "python",
   "name": "python3"
  },
  "language_info": {
   "codemirror_mode": {
    "name": "ipython",
    "version": 3
   },
   "file_extension": ".py",
   "mimetype": "text/x-python",
   "name": "python",
   "nbconvert_exporter": "python",
   "pygments_lexer": "ipython3",
   "version": "3.9.12"
  },
  "orig_nbformat": 4,
  "vscode": {
   "interpreter": {
    "hash": "4877b3fee5f0f38b54d555825168fde5799a8fbed9e4e34a40d798f828df1a78"
   }
  }
 },
 "nbformat": 4,
 "nbformat_minor": 2
}
